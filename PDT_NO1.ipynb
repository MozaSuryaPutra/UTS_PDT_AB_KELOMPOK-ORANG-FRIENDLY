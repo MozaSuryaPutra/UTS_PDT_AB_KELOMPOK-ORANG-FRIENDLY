{
  "nbformat": 4,
  "nbformat_minor": 0,
  "metadata": {
    "colab": {
      "provenance": [],
      "authorship_tag": "ABX9TyPy/IHkYhjLx/JYs/DYie4W",
      "include_colab_link": true
    },
    "kernelspec": {
      "name": "python3",
      "display_name": "Python 3"
    },
    "language_info": {
      "name": "python"
    }
  },
  "cells": [
    {
      "cell_type": "markdown",
      "metadata": {
        "id": "view-in-github",
        "colab_type": "text"
      },
      "source": [
        "<a href=\"https://colab.research.google.com/github/MozaSuryaPutra/UTS_PDT_AB_KELOMPOK-ORANG-FRIENDLY/blob/main/PDT_NO1.ipynb\" target=\"_parent\"><img src=\"https://colab.research.google.com/assets/colab-badge.svg\" alt=\"Open In Colab\"/></a>"
      ]
    },
    {
      "cell_type": "code",
      "execution_count": null,
      "metadata": {
        "id": "TEzWhpMFukvl"
      },
      "outputs": [],
      "source": [
        "# Inisialisasi Library\n",
        "import pandas as pd\n"
      ]
    },
    {
      "cell_type": "code",
      "source": [
        "# Load dataset\n",
        "data = pd.read_csv(\"https://raw.githubusercontent.com/azhar2ds/DataSets/master/10000%20Sales%20Records.csv\")\n",
        "\n",
        "# Tampilkan informasi dataset\n",
        "print(\"Informasi dataset:\")\n",
        "print(data.info())\n",
        "\n"
      ],
      "metadata": {
        "colab": {
          "base_uri": "https://localhost:8080/"
        },
        "id": "ShZalXaIzryT",
        "outputId": "1b5a5151-6247-4bab-99cf-34c50c1cf938"
      },
      "execution_count": null,
      "outputs": [
        {
          "output_type": "stream",
          "name": "stdout",
          "text": [
            "Informasi dataset:\n",
            "<class 'pandas.core.frame.DataFrame'>\n",
            "RangeIndex: 10000 entries, 0 to 9999\n",
            "Data columns (total 14 columns):\n",
            " #   Column          Non-Null Count  Dtype  \n",
            "---  ------          --------------  -----  \n",
            " 0   Region          10000 non-null  object \n",
            " 1   Country         10000 non-null  object \n",
            " 2   Item Type       10000 non-null  object \n",
            " 3   Sales Channel   10000 non-null  object \n",
            " 4   Order Priority  10000 non-null  object \n",
            " 5   Order Date      10000 non-null  object \n",
            " 6   Order ID        10000 non-null  int64  \n",
            " 7   Ship Date       10000 non-null  object \n",
            " 8   Units Sold      10000 non-null  int64  \n",
            " 9   Unit Price      10000 non-null  float64\n",
            " 10  Unit Cost       10000 non-null  float64\n",
            " 11  Total Revenue   10000 non-null  float64\n",
            " 12  Total Cost      10000 non-null  float64\n",
            " 13  Total Profit    10000 non-null  float64\n",
            "dtypes: float64(5), int64(2), object(7)\n",
            "memory usage: 1.1+ MB\n",
            "None\n"
          ]
        }
      ]
    },
    {
      "cell_type": "code",
      "source": [
        "\n",
        "# Handle missing values\n",
        "data[\"Units Sold\"].fillna(value=data[\"Units Sold\"].mean(),inplace = True)\n",
        "data[\"Unit Price\"].fillna(value=data[\"Unit Price\"].mean(),inplace = True)\n",
        "data[\"Unit Cost\"].fillna(value=data[\"Unit Cost\"].mean(),inplace = True)\n",
        "data[\"Total Revenue\"].fillna(value=data[\"Total Revenue\"].mean(),inplace = True)\n",
        "data[\"Total Cost\"].fillna(value=data[\"Total Cost\"].mean(),inplace = True)\n",
        "data[\"Total Profit\"].fillna(value=data[\"Total Profit\"].mean(),inplace = True)\n"
      ],
      "metadata": {
        "id": "sOws8H990MEF"
      },
      "execution_count": null,
      "outputs": []
    },
    {
      "cell_type": "code",
      "source": [
        "x = data.drop( ['Region', 'Country', 'Item Type','Sales Channel','Order Priority','Order Date','Ship Date'],axis = 1)"
      ],
      "metadata": {
        "id": "NK1iHSNG0vBd"
      },
      "execution_count": null,
      "outputs": []
    },
    {
      "cell_type": "code",
      "source": [
        "pd.options.display.float_format = '{:.2f}'.format  # Mengatur format angka menjadi dua angka desimal\n",
        "print(x.describe())\n"
      ],
      "metadata": {
        "colab": {
          "base_uri": "https://localhost:8080/"
        },
        "id": "aixjMJdo1Z2f",
        "outputId": "ea333e5a-95c3-41ec-d39a-81550014cd0f"
      },
      "execution_count": null,
      "outputs": [
        {
          "output_type": "stream",
          "name": "stdout",
          "text": [
            "          Order ID  Units Sold  Unit Price  Unit Cost  Total Revenue  \\\n",
            "count     10000.00    10000.00    10000.00   10000.00       10000.00   \n",
            "mean  549871874.37     5002.86      268.14     188.81     1333355.13   \n",
            "std   260783511.13     2873.25      217.94     176.45     1465026.17   \n",
            "min   100089156.00        2.00        9.33       6.92         167.94   \n",
            "25%   321806669.00     2530.75      109.28      56.67      288551.08   \n",
            "50%   548566305.00     4962.00      205.70     117.11      800051.21   \n",
            "75%   775998103.50     7472.00      437.20     364.69     1819143.39   \n",
            "max   999934232.00    10000.00      668.27     524.96     6680026.92   \n",
            "\n",
            "       Total Cost  Total Profit  \n",
            "count    10000.00      10000.00  \n",
            "mean    938265.78     395089.35  \n",
            "std    1145914.07     377554.96  \n",
            "min        124.56         43.38  \n",
            "25%     164785.53      98329.14  \n",
            "50%     481605.84     289099.02  \n",
            "75%    1183821.52     566422.71  \n",
            "max    5241725.60    1738178.39  \n"
          ]
        }
      ]
    }
  ]
}